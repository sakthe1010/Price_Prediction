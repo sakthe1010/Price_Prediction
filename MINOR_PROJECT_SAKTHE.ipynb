{
  "cells": [
    {
      "cell_type": "markdown",
      "id": "b84431cb-f55e-4e7e-a2fa-572689ecfb6d",
      "metadata": {
        "tags": [],
        "id": "b84431cb-f55e-4e7e-a2fa-572689ecfb6d"
      },
      "source": [
        "# MINOR PROJECT"
      ]
    },
    {
      "cell_type": "code",
      "execution_count": null,
      "id": "ad3cb72d-7b88-4799-a8da-a51f9e227ab9",
      "metadata": {
        "id": "ad3cb72d-7b88-4799-a8da-a51f9e227ab9"
      },
      "outputs": [],
      "source": [
        "import pandas as pd\n",
        "import numpy as num\n",
        "import matplotlib.pyplot as plt"
      ]
    },
    {
      "cell_type": "code",
      "execution_count": null,
      "id": "424ef220-0bd4-45b5-af50-59a7fe79894a",
      "metadata": {
        "id": "424ef220-0bd4-45b5-af50-59a7fe79894a"
      },
      "outputs": [],
      "source": [
        "df = pd.read_csv('mobile_price_range_data.csv')"
      ]
    },
    {
      "cell_type": "code",
      "execution_count": null,
      "id": "54b91e9b-bc05-4868-b2f4-896767c9075a",
      "metadata": {
        "id": "54b91e9b-bc05-4868-b2f4-896767c9075a",
        "outputId": "475add1f-d84f-4d4c-944a-2bbad711eae8"
      },
      "outputs": [
        {
          "data": {
            "text/plain": [
              "<bound method NDFrame.head of       battery_power  blue  clock_speed  dual_sim  fc  four_g  int_memory  \\\n",
              "0               842     0          2.2         0   1       0           7   \n",
              "1              1021     1          0.5         1   0       1          53   \n",
              "2               563     1          0.5         1   2       1          41   \n",
              "3               615     1          2.5         0   0       0          10   \n",
              "4              1821     1          1.2         0  13       1          44   \n",
              "...             ...   ...          ...       ...  ..     ...         ...   \n",
              "1995            794     1          0.5         1   0       1           2   \n",
              "1996           1965     1          2.6         1   0       0          39   \n",
              "1997           1911     0          0.9         1   1       1          36   \n",
              "1998           1512     0          0.9         0   4       1          46   \n",
              "1999            510     1          2.0         1   5       1          45   \n",
              "\n",
              "      m_dep  mobile_wt  n_cores  ...  px_height  px_width   ram  sc_h  sc_w  \\\n",
              "0       0.6        188        2  ...         20       756  2549     9     7   \n",
              "1       0.7        136        3  ...        905      1988  2631    17     3   \n",
              "2       0.9        145        5  ...       1263      1716  2603    11     2   \n",
              "3       0.8        131        6  ...       1216      1786  2769    16     8   \n",
              "4       0.6        141        2  ...       1208      1212  1411     8     2   \n",
              "...     ...        ...      ...  ...        ...       ...   ...   ...   ...   \n",
              "1995    0.8        106        6  ...       1222      1890   668    13     4   \n",
              "1996    0.2        187        4  ...        915      1965  2032    11    10   \n",
              "1997    0.7        108        8  ...        868      1632  3057     9     1   \n",
              "1998    0.1        145        5  ...        336       670   869    18    10   \n",
              "1999    0.9        168        6  ...        483       754  3919    19     4   \n",
              "\n",
              "      talk_time  three_g  touch_screen  wifi  price_range  \n",
              "0            19        0             0     1            1  \n",
              "1             7        1             1     0            2  \n",
              "2             9        1             1     0            2  \n",
              "3            11        1             0     0            2  \n",
              "4            15        1             1     0            1  \n",
              "...         ...      ...           ...   ...          ...  \n",
              "1995         19        1             1     0            0  \n",
              "1996         16        1             1     1            2  \n",
              "1997          5        1             1     0            3  \n",
              "1998         19        1             1     1            0  \n",
              "1999          2        1             1     1            3  \n",
              "\n",
              "[2000 rows x 21 columns]>"
            ]
          },
          "execution_count": 3,
          "metadata": {},
          "output_type": "execute_result"
        }
      ],
      "source": [
        "df.head"
      ]
    },
    {
      "cell_type": "code",
      "execution_count": null,
      "id": "1cc3aedb-ca69-476a-a7ce-952231e269af",
      "metadata": {
        "id": "1cc3aedb-ca69-476a-a7ce-952231e269af",
        "outputId": "19dfcc0b-a0f6-4cd2-a494-df4c03cfedbe"
      },
      "outputs": [
        {
          "data": {
            "text/plain": [
              "(2000, 21)"
            ]
          },
          "execution_count": 4,
          "metadata": {},
          "output_type": "execute_result"
        }
      ],
      "source": [
        "df.shape"
      ]
    },
    {
      "cell_type": "code",
      "execution_count": null,
      "id": "fcdb1c5a-75e4-4afc-9868-0b5ef0cae476",
      "metadata": {
        "id": "fcdb1c5a-75e4-4afc-9868-0b5ef0cae476",
        "outputId": "fddaaed4-0ae8-462c-e266-1a7d208fb7e7"
      },
      "outputs": [
        {
          "data": {
            "text/plain": [
              "battery_power    0\n",
              "blue             0\n",
              "clock_speed      0\n",
              "dual_sim         0\n",
              "fc               0\n",
              "four_g           0\n",
              "int_memory       0\n",
              "m_dep            0\n",
              "mobile_wt        0\n",
              "n_cores          0\n",
              "pc               0\n",
              "px_height        0\n",
              "px_width         0\n",
              "ram              0\n",
              "sc_h             0\n",
              "sc_w             0\n",
              "talk_time        0\n",
              "three_g          0\n",
              "touch_screen     0\n",
              "wifi             0\n",
              "price_range      0\n",
              "dtype: int64"
            ]
          },
          "execution_count": 5,
          "metadata": {},
          "output_type": "execute_result"
        }
      ],
      "source": [
        "df.isnull().sum()"
      ]
    },
    {
      "cell_type": "code",
      "execution_count": null,
      "id": "65da95ce-c539-4ce9-8610-4267bca456f0",
      "metadata": {
        "id": "65da95ce-c539-4ce9-8610-4267bca456f0",
        "outputId": "cb9b2df1-37bb-45ee-e56c-604a86723786"
      },
      "outputs": [
        {
          "data": {
            "text/plain": [
              "battery_power      int64\n",
              "blue               int64\n",
              "clock_speed      float64\n",
              "dual_sim           int64\n",
              "fc                 int64\n",
              "four_g             int64\n",
              "int_memory         int64\n",
              "m_dep            float64\n",
              "mobile_wt          int64\n",
              "n_cores            int64\n",
              "pc                 int64\n",
              "px_height          int64\n",
              "px_width           int64\n",
              "ram                int64\n",
              "sc_h               int64\n",
              "sc_w               int64\n",
              "talk_time          int64\n",
              "three_g            int64\n",
              "touch_screen       int64\n",
              "wifi               int64\n",
              "price_range        int64\n",
              "dtype: object"
            ]
          },
          "execution_count": 6,
          "metadata": {},
          "output_type": "execute_result"
        }
      ],
      "source": [
        "df.dtypes"
      ]
    },
    {
      "cell_type": "code",
      "execution_count": null,
      "id": "d9aaad29-a34b-4f1e-9bf6-a67a004dc190",
      "metadata": {
        "id": "d9aaad29-a34b-4f1e-9bf6-a67a004dc190",
        "outputId": "5ac88d27-edd5-46a7-affa-362ba8afa7c7"
      },
      "outputs": [
        {
          "name": "stdout",
          "output_type": "stream",
          "text": [
            "<class 'pandas.core.frame.DataFrame'>\n",
            "<class 'pandas.core.series.Series'>\n"
          ]
        }
      ],
      "source": [
        "x = df.iloc[:,:-1]\n",
        "y = df.iloc[:,-1]\n",
        "print(type(x))\n",
        "print(type(y))"
      ]
    },
    {
      "cell_type": "code",
      "execution_count": null,
      "id": "15cf2f66-5faa-4921-ba88-8eef00d60815",
      "metadata": {
        "id": "15cf2f66-5faa-4921-ba88-8eef00d60815",
        "outputId": "10a8e3ff-569a-4ce2-ed93-ea6bc19226f0"
      },
      "outputs": [
        {
          "name": "stdout",
          "output_type": "stream",
          "text": [
            "(2000, 20)\n",
            "(2000,)\n"
          ]
        }
      ],
      "source": [
        "print(x.shape)\n",
        "print(y.shape)\n"
      ]
    },
    {
      "cell_type": "code",
      "execution_count": null,
      "id": "5077ca9f-6807-471b-a521-e5278e223bb0",
      "metadata": {
        "id": "5077ca9f-6807-471b-a521-e5278e223bb0"
      },
      "outputs": [],
      "source": [
        "from sklearn.model_selection import train_test_split"
      ]
    },
    {
      "cell_type": "code",
      "execution_count": null,
      "id": "8831bb26-a702-4d18-bf78-446caebfbc1e",
      "metadata": {
        "id": "8831bb26-a702-4d18-bf78-446caebfbc1e",
        "outputId": "3474f80f-b9b3-4fe8-8be4-78dc506adff8"
      },
      "outputs": [
        {
          "name": "stdout",
          "output_type": "stream",
          "text": [
            "(1500, 20)\n",
            "(500, 20)\n",
            "(1500,)\n",
            "(500,)\n"
          ]
        }
      ],
      "source": [
        "x_train,x_test,y_train,y_test = train_test_split(x,y,test_size=0.25)\n",
        "print(x_train.shape)\n",
        "print(x_test.shape)\n",
        "print(y_train.shape)\n",
        "print(y_test.shape)"
      ]
    },
    {
      "cell_type": "code",
      "execution_count": null,
      "id": "00b2ff87-e785-42ff-87d5-4946abbe0fc1",
      "metadata": {
        "id": "00b2ff87-e785-42ff-87d5-4946abbe0fc1"
      },
      "outputs": [],
      "source": [
        "import warnings\n",
        "warnings.filterwarnings('ignore')"
      ]
    },
    {
      "cell_type": "markdown",
      "id": "4b72ead3-3690-4fa4-87fc-1b50e2cef578",
      "metadata": {
        "tags": [],
        "id": "4b72ead3-3690-4fa4-87fc-1b50e2cef578"
      },
      "source": [
        "## LOGISTIC REGRESSION"
      ]
    },
    {
      "cell_type": "code",
      "execution_count": null,
      "id": "3df125b3-f082-46e4-9dfb-d4f49c14c773",
      "metadata": {
        "id": "3df125b3-f082-46e4-9dfb-d4f49c14c773"
      },
      "outputs": [],
      "source": [
        "from sklearn.linear_model import LogisticRegression"
      ]
    },
    {
      "cell_type": "code",
      "execution_count": null,
      "id": "4014d7f8-5740-4624-b845-715c604c70f7",
      "metadata": {
        "id": "4014d7f8-5740-4624-b845-715c604c70f7",
        "outputId": "1fffb6a4-25c2-48d4-ca96-bc20f460c697"
      },
      "outputs": [
        {
          "data": {
            "text/plain": [
              "LogisticRegression()"
            ]
          },
          "execution_count": 13,
          "metadata": {},
          "output_type": "execute_result"
        }
      ],
      "source": [
        "m1 = LogisticRegression()\n",
        "m1.fit(x_train,y_train)"
      ]
    },
    {
      "cell_type": "code",
      "execution_count": null,
      "id": "68d8018b-c8b0-4dbf-9e3d-1fc8ac22def1",
      "metadata": {
        "id": "68d8018b-c8b0-4dbf-9e3d-1fc8ac22def1",
        "outputId": "e2cea681-b5e7-4fc8-82b2-277977ad2f21"
      },
      "outputs": [
        {
          "name": "stdout",
          "output_type": "stream",
          "text": [
            "training acc score 0.634\n",
            "testing acc score 0.644\n"
          ]
        }
      ],
      "source": [
        "print('training acc score',m1.score(x_train,y_train))\n",
        "print('testing acc score',m1.score(x_test,y_test))"
      ]
    },
    {
      "cell_type": "code",
      "execution_count": null,
      "id": "747588e3-03e2-4cf5-bc92-cfc2b43b6374",
      "metadata": {
        "id": "747588e3-03e2-4cf5-bc92-cfc2b43b6374",
        "outputId": "95becd9a-6bce-4aee-cb79-9a60715a23dd"
      },
      "outputs": [
        {
          "name": "stdout",
          "output_type": "stream",
          "text": [
            "[1 1 1 1 3 2 3 2 3 0 1 3 0 2 3 1 1 2 3 2 0 3 0 0 0 1 1 2 2 0 1 2 0 1 1 0 3\n",
            " 0 0 0 3 2 3 2 2 2 0 0 3 1 1 3 0 2 2 2 3 1 2 1 2 2 1 1 2 3 3 3 3 3 2 3 2 2\n",
            " 1 3 1 3 2 2 2 2 1 2 2 0 0 1 3 3 2 1 1 3 3 0 0 0 1 2 0 1 2 1 3 0 1 3 0 1 3\n",
            " 0 0 0 3 3 2 0 3 2 2 1 3 0 2 2 3 0 2 2 2 2 0 0 1 0 1 3 3 2 0 3 0 0 2 2 2 0\n",
            " 1 3 3 2 0 2 0 0 2 2 1 1 1 0 1 0 1 2 3 3 1 2 0 3 2 3 2 0 3 3 2 2 0 3 2 3 2\n",
            " 0 2 1 1 2 2 3 0 3 1 1 1 3 1 0 3 2 3 1 0 3 1 3 1 3 2 1 3 2 0 3 3 0 1 0 3 0\n",
            " 2 0 3 2 3 2 1 3 1 2 2 1 1 3 0 0 0 0 0 1 0 1 2 0 3 1 2 0 3 3 1 1 2 0 0 0 2\n",
            " 1 0 2 2 0 3 3 2 1 3 1 3 2 2 0 3 1 3 1 2 1 2 2 2 1 2 2 2 2 2 1 0 1 0 0 3 0\n",
            " 3 2 2 1 0 2 1 3 3 3 0 2 1 2 2 1 0 1 2 3 1 3 3 3 3 1 3 2 0 1 0 1 0 0 0 3 1\n",
            " 3 1 3 0 0 1 0 3 3 3 2 2 2 2 1 2 0 3 2 2 1 3 3 0 1 1 0 3 1 3 0 3 2 3 1 2 0\n",
            " 1 1 2 2 0 1 1 2 0 3 3 3 1 3 2 1 2 1 3 1 1 0 3 3 2 2 3 1 0 1 2 0 3 0 1 3 3\n",
            " 3 0 2 3 1 3 1 2 0 0 2 1 2 2 3 0 3 3 1 0 0 3 3 1 2 1 1 2 0 1 2 0 2 2 3 0 3\n",
            " 2 3 1 3 1 3 3 3 3 2 0 2 2 1 2 1 0 2 1 1 0 0 1 1 0 0 2 1 2 1 3 3 3 2 0 0 2\n",
            " 0 2 0 3 2 1 0 3 3 2 0 3 3 1 3 3 1 1 0]\n"
          ]
        }
      ],
      "source": [
        "y_pred_m1 = m1.predict(x_test)\n",
        "print(y_pred_m1)"
      ]
    },
    {
      "cell_type": "code",
      "execution_count": null,
      "id": "226a10d7-fa42-4094-aebd-466fd6e51f55",
      "metadata": {
        "id": "226a10d7-fa42-4094-aebd-466fd6e51f55"
      },
      "outputs": [],
      "source": [
        "from sklearn.metrics import confusion_matrix,classification_report,accuracy_score"
      ]
    },
    {
      "cell_type": "code",
      "execution_count": null,
      "id": "c11c1821-1cb1-43da-b195-ae2965c1dafe",
      "metadata": {
        "id": "c11c1821-1cb1-43da-b195-ae2965c1dafe",
        "outputId": "79020028-670c-4406-e2d0-bd1e4dfc49b8"
      },
      "outputs": [
        {
          "name": "stdout",
          "output_type": "stream",
          "text": [
            "[[91 25  3  0]\n",
            " [24 69 31  5]\n",
            " [ 0 25 68 33]\n",
            " [ 0  1 31 94]]\n"
          ]
        }
      ],
      "source": [
        "cm = confusion_matrix(y_test,y_pred_m1)\n",
        "print(cm)"
      ]
    },
    {
      "cell_type": "code",
      "execution_count": null,
      "id": "2b50bd24-b0d6-4e21-9624-b6e7f00de732",
      "metadata": {
        "id": "2b50bd24-b0d6-4e21-9624-b6e7f00de732",
        "outputId": "8a366388-455d-4e3c-9e98-d9e572483419"
      },
      "outputs": [
        {
          "name": "stdout",
          "output_type": "stream",
          "text": [
            "              precision    recall  f1-score   support\n",
            "\n",
            "           0       0.79      0.76      0.78       119\n",
            "           1       0.57      0.53      0.55       129\n",
            "           2       0.51      0.54      0.53       126\n",
            "           3       0.71      0.75      0.73       126\n",
            "\n",
            "    accuracy                           0.64       500\n",
            "   macro avg       0.65      0.65      0.65       500\n",
            "weighted avg       0.64      0.64      0.64       500\n",
            "\n"
          ]
        }
      ],
      "source": [
        "print(classification_report(y_test,y_pred_m1))"
      ]
    },
    {
      "cell_type": "markdown",
      "id": "67874f9c-630d-4dfb-9735-c62512be020a",
      "metadata": {
        "tags": [],
        "id": "67874f9c-630d-4dfb-9735-c62512be020a"
      },
      "source": [
        "## KNN CLASSIFICATION"
      ]
    },
    {
      "cell_type": "code",
      "execution_count": null,
      "id": "c32b8f15-36f6-48e5-b600-6e2888b52ed1",
      "metadata": {
        "id": "c32b8f15-36f6-48e5-b600-6e2888b52ed1"
      },
      "outputs": [],
      "source": [
        "from sklearn.neighbors import KNeighborsClassifier"
      ]
    },
    {
      "cell_type": "code",
      "execution_count": null,
      "id": "8822cf3f-11ec-4640-9bb6-96098acb44e6",
      "metadata": {
        "id": "8822cf3f-11ec-4640-9bb6-96098acb44e6",
        "outputId": "6b829e5f-ed0a-44f8-f83d-bd0796e65888"
      },
      "outputs": [
        {
          "data": {
            "text/plain": [
              "KNeighborsClassifier(n_neighbors=15)"
            ]
          },
          "execution_count": 20,
          "metadata": {},
          "output_type": "execute_result"
        }
      ],
      "source": [
        "m2 = KNeighborsClassifier(n_neighbors=15)\n",
        "m2.fit(x_train,y_train)"
      ]
    },
    {
      "cell_type": "code",
      "execution_count": null,
      "id": "e7cfb90f-c2cb-418a-9cbf-99a36f05aa7b",
      "metadata": {
        "id": "e7cfb90f-c2cb-418a-9cbf-99a36f05aa7b",
        "outputId": "bed55797-93bb-4ef2-c9e0-e7e82b478317"
      },
      "outputs": [
        {
          "name": "stdout",
          "output_type": "stream",
          "text": [
            "Training score 0.9426666666666667\n",
            "Testing score 0.926\n"
          ]
        }
      ],
      "source": [
        "print('Training score',m2.score(x_train,y_train))\n",
        "print('Testing score',m2.score(x_test,y_test))"
      ]
    },
    {
      "cell_type": "code",
      "execution_count": null,
      "id": "adb22800-168e-448f-a039-401aaa04371a",
      "metadata": {
        "id": "adb22800-168e-448f-a039-401aaa04371a",
        "outputId": "f060a6b3-76a4-48d2-bfdf-10a8541c7dff"
      },
      "outputs": [
        {
          "name": "stdout",
          "output_type": "stream",
          "text": [
            "[1 1 0 2 3 3 2 2 3 0 1 3 0 1 3 2 0 1 2 2 1 3 0 0 1 2 0 0 3 1 2 3 0 1 0 0 2\n",
            " 0 0 1 3 1 3 2 3 3 0 0 3 2 2 1 0 1 3 2 3 1 3 2 1 2 1 1 3 2 3 3 3 3 2 3 3 2\n",
            " 0 2 1 3 3 3 1 2 2 3 2 0 0 1 3 2 1 0 1 3 3 1 0 0 1 2 1 1 1 0 2 0 2 3 0 2 3\n",
            " 0 0 0 2 2 2 1 3 1 1 1 3 0 2 1 3 0 2 3 1 3 0 0 0 1 2 3 3 2 0 2 0 0 2 2 2 0\n",
            " 0 2 2 1 1 3 0 0 3 2 0 1 1 1 1 0 1 3 3 3 1 2 0 2 3 3 3 0 2 3 3 2 0 3 2 2 2\n",
            " 1 2 1 2 2 2 2 0 2 1 0 1 3 1 0 3 1 3 1 0 2 2 2 1 3 1 1 3 2 0 3 3 0 1 0 3 0\n",
            " 2 0 3 3 2 2 1 3 1 3 1 1 0 3 1 0 0 0 0 1 0 0 3 0 1 1 3 0 3 3 1 1 0 0 0 0 2\n",
            " 1 0 1 2 0 3 3 2 2 3 2 3 2 2 0 3 2 3 1 1 2 3 2 1 1 3 1 3 2 2 0 1 1 0 0 3 0\n",
            " 3 3 2 1 1 1 0 3 2 3 0 3 0 2 1 2 0 1 2 2 1 3 3 3 2 1 2 2 1 0 0 1 0 1 0 3 1\n",
            " 3 0 3 0 0 0 0 3 2 2 1 2 2 1 0 3 0 3 2 1 1 2 2 0 1 1 1 2 1 2 0 3 0 3 1 2 0\n",
            " 1 2 1 2 0 1 2 2 0 3 2 3 2 1 1 1 2 1 3 1 0 0 3 3 3 2 3 2 0 0 2 0 1 0 1 3 3\n",
            " 3 0 1 3 0 3 1 3 1 0 1 1 2 3 3 1 2 3 1 0 0 3 2 1 3 1 2 1 0 1 2 1 2 0 2 1 3\n",
            " 1 3 1 3 1 3 3 1 3 2 0 2 1 2 3 2 0 3 0 1 0 0 3 0 0 0 2 1 2 1 2 3 3 3 0 0 2\n",
            " 0 2 0 3 2 1 0 2 3 1 0 3 3 1 3 2 0 0 0]\n"
          ]
        }
      ],
      "source": [
        "y_pred_m2 = m2.predict(x_test)\n",
        "print(y_pred_m2)"
      ]
    },
    {
      "cell_type": "code",
      "execution_count": null,
      "id": "fa3bcfab-3897-4cc9-9440-016de7b1e5f6",
      "metadata": {
        "id": "fa3bcfab-3897-4cc9-9440-016de7b1e5f6",
        "outputId": "4080b25f-884a-4121-dd64-0923e67b208d"
      },
      "outputs": [
        {
          "name": "stdout",
          "output_type": "stream",
          "text": [
            "[[118   1   0   0]\n",
            " [  7 118   4   0]\n",
            " [  0   7 109  10]\n",
            " [  0   0   8 118]]\n",
            "              precision    recall  f1-score   support\n",
            "\n",
            "           0       0.94      0.99      0.97       119\n",
            "           1       0.94      0.91      0.93       129\n",
            "           2       0.90      0.87      0.88       126\n",
            "           3       0.92      0.94      0.93       126\n",
            "\n",
            "    accuracy                           0.93       500\n",
            "   macro avg       0.93      0.93      0.93       500\n",
            "weighted avg       0.93      0.93      0.93       500\n",
            "\n"
          ]
        }
      ],
      "source": [
        "print(confusion_matrix(y_test,y_pred_m2))\n",
        "print(classification_report(y_test,y_pred_m2))"
      ]
    },
    {
      "cell_type": "markdown",
      "id": "b23aad27-e4a1-4336-a31b-b296ead8a105",
      "metadata": {
        "tags": [],
        "id": "b23aad27-e4a1-4336-a31b-b296ead8a105"
      },
      "source": [
        "## NAIVE BAYES CLASSIFIERS"
      ]
    },
    {
      "cell_type": "code",
      "execution_count": null,
      "id": "9b6ca9fe-702c-4145-b258-b0801a4fed5e",
      "metadata": {
        "id": "9b6ca9fe-702c-4145-b258-b0801a4fed5e"
      },
      "outputs": [],
      "source": [
        "from sklearn.naive_bayes import MultinomialNB"
      ]
    },
    {
      "cell_type": "code",
      "execution_count": null,
      "id": "2441b141-09ad-4ad3-874c-31fce5e6c564",
      "metadata": {
        "id": "2441b141-09ad-4ad3-874c-31fce5e6c564",
        "outputId": "0c68a99c-99e3-4354-df2e-ab72c07a8ce7"
      },
      "outputs": [
        {
          "data": {
            "text/plain": [
              "MultinomialNB()"
            ]
          },
          "execution_count": 25,
          "metadata": {},
          "output_type": "execute_result"
        }
      ],
      "source": [
        "mnb = MultinomialNB()\n",
        "mnb.fit(x_train,y_train)"
      ]
    },
    {
      "cell_type": "code",
      "execution_count": null,
      "id": "932f6ac9-eec5-4af8-9693-a10c3c93bd86",
      "metadata": {
        "id": "932f6ac9-eec5-4af8-9693-a10c3c93bd86",
        "outputId": "d708b6ce-5e2e-4fd6-b567-4972e7a95019"
      },
      "outputs": [
        {
          "name": "stdout",
          "output_type": "stream",
          "text": [
            "Training score 0.528\n",
            "Testing score 0.504\n"
          ]
        }
      ],
      "source": [
        "print('Training score',mnb.score(x_train,y_train))\n",
        "print('Testing score',mnb.score(x_test,y_test))"
      ]
    },
    {
      "cell_type": "code",
      "execution_count": null,
      "id": "a41ed4a9-2fa5-41ba-a559-df166323aff0",
      "metadata": {
        "id": "a41ed4a9-2fa5-41ba-a559-df166323aff0",
        "outputId": "35b45f00-dc20-45a0-e9eb-863c59d36cc2"
      },
      "outputs": [
        {
          "name": "stdout",
          "output_type": "stream",
          "text": [
            "[0 1 0 2 3 3 3 2 2 0 2 3 1 2 2 1 2 3 3 1 0 3 0 0 0 2 0 2 2 0 1 3 0 0 0 0 3\n",
            " 0 0 1 2 1 3 3 3 3 0 0 3 1 1 3 1 2 3 2 3 0 3 2 2 3 2 0 1 2 3 3 3 3 2 3 3 3\n",
            " 0 3 3 3 3 3 2 3 1 2 1 0 0 0 3 3 3 0 1 3 3 0 1 0 1 3 0 2 2 0 3 0 1 3 1 1 3\n",
            " 0 0 0 3 3 3 0 3 2 2 0 3 0 2 2 3 2 2 1 3 3 0 0 0 1 1 3 2 1 0 2 1 0 3 3 0 0\n",
            " 0 3 3 2 0 2 0 0 2 3 1 1 2 1 1 0 1 2 3 3 1 3 0 3 1 3 3 0 1 3 3 3 0 2 3 3 2\n",
            " 0 3 0 3 1 3 3 0 3 1 1 2 3 0 0 2 2 3 1 0 2 1 3 1 3 3 0 2 1 0 3 3 0 1 0 2 0\n",
            " 3 0 2 3 1 3 2 3 2 3 1 2 1 3 0 1 1 0 0 1 0 0 2 0 3 0 3 0 3 3 1 0 2 0 0 0 1\n",
            " 1 1 2 2 0 2 3 1 0 3 1 2 3 3 0 3 1 2 1 1 2 3 2 3 1 3 1 3 1 2 0 0 2 0 0 3 0\n",
            " 3 2 2 2 1 2 0 2 3 3 0 3 1 2 3 2 0 2 2 3 1 3 3 3 3 1 3 2 0 0 0 0 0 0 1 2 1\n",
            " 2 0 3 0 0 1 0 3 3 2 2 2 2 1 1 3 1 3 1 1 0 1 3 0 2 0 0 3 2 2 0 3 1 3 1 3 0\n",
            " 1 1 1 3 1 2 2 1 0 3 1 3 1 3 2 3 2 2 3 2 2 1 3 3 3 3 3 1 1 1 2 0 3 0 2 3 3\n",
            " 3 0 1 3 1 2 1 3 0 0 3 1 3 2 3 0 1 2 1 2 0 2 3 0 2 0 2 3 0 1 2 0 3 1 3 1 2\n",
            " 3 3 0 2 1 3 3 1 3 1 0 2 2 2 2 1 0 3 1 0 0 0 1 2 1 0 1 0 3 0 3 3 2 1 0 0 1\n",
            " 1 3 0 3 2 1 2 3 3 1 0 3 3 1 3 3 1 2 0]\n"
          ]
        }
      ],
      "source": [
        "y_pred_mnb = mnb.predict(x_test)\n",
        "print(y_pred_mnb)"
      ]
    },
    {
      "cell_type": "code",
      "execution_count": null,
      "id": "10a2ed51-6ce3-4387-afeb-782b4c1ff1e3",
      "metadata": {
        "id": "10a2ed51-6ce3-4387-afeb-782b4c1ff1e3",
        "outputId": "686710f3-5810-44e1-d8a9-7759cef9bbfa"
      },
      "outputs": [
        {
          "name": "stdout",
          "output_type": "stream",
          "text": [
            "[[84 27  8  0]\n",
            " [41 42 30 16]\n",
            " [ 2 32 37 55]\n",
            " [ 0  7 30 89]]\n",
            "              precision    recall  f1-score   support\n",
            "\n",
            "           0       0.66      0.71      0.68       119\n",
            "           1       0.39      0.33      0.35       129\n",
            "           2       0.35      0.29      0.32       126\n",
            "           3       0.56      0.71      0.62       126\n",
            "\n",
            "    accuracy                           0.50       500\n",
            "   macro avg       0.49      0.51      0.50       500\n",
            "weighted avg       0.49      0.50      0.49       500\n",
            "\n"
          ]
        }
      ],
      "source": [
        "cm_mnb = confusion_matrix(y_test,y_pred_mnb)\n",
        "print(cm_mnb)\n",
        "print(classification_report(y_test,y_pred_mnb))"
      ]
    },
    {
      "cell_type": "markdown",
      "id": "c26e699e-d086-4118-886a-79bb72daa527",
      "metadata": {
        "tags": [],
        "id": "c26e699e-d086-4118-886a-79bb72daa527"
      },
      "source": [
        "## SVM WITH DIFFERENT KERNELS"
      ]
    },
    {
      "cell_type": "markdown",
      "id": "12fd840b-ab4d-451e-b5ed-6008e3cec391",
      "metadata": {
        "id": "12fd840b-ab4d-451e-b5ed-6008e3cec391"
      },
      "source": [
        "### LINEAR KERNEL"
      ]
    },
    {
      "cell_type": "code",
      "execution_count": null,
      "id": "aac86d2b-7cb0-4ba1-b6bf-5c6f1d29475a",
      "metadata": {
        "id": "aac86d2b-7cb0-4ba1-b6bf-5c6f1d29475a"
      },
      "outputs": [],
      "source": [
        "from sklearn.svm import SVC"
      ]
    },
    {
      "cell_type": "code",
      "execution_count": null,
      "id": "8422fcfb-d545-43a7-bd2b-9083b13df254",
      "metadata": {
        "id": "8422fcfb-d545-43a7-bd2b-9083b13df254",
        "outputId": "afe2bcc8-ffdb-40fa-ea65-099d5c12d17e"
      },
      "outputs": [
        {
          "data": {
            "text/plain": [
              "SVC(kernel='linear')"
            ]
          },
          "execution_count": 30,
          "metadata": {},
          "output_type": "execute_result"
        }
      ],
      "source": [
        "m3 = SVC(kernel='linear')\n",
        "m3.fit(x_train,y_train)"
      ]
    },
    {
      "cell_type": "code",
      "execution_count": null,
      "id": "c3c24cf0-1fd2-4079-ba2c-9658fed2f92a",
      "metadata": {
        "id": "c3c24cf0-1fd2-4079-ba2c-9658fed2f92a",
        "outputId": "e20149e7-3047-44ee-f2aa-2c6bf57881ad"
      },
      "outputs": [
        {
          "name": "stdout",
          "output_type": "stream",
          "text": [
            "Training score 0.9953333333333333\n",
            "Testing score 0.97\n"
          ]
        }
      ],
      "source": [
        "print('Training score',m3.score(x_train,y_train))\n",
        "print('Testing score',m3.score(x_test,y_test))"
      ]
    },
    {
      "cell_type": "code",
      "execution_count": null,
      "id": "0f4c6a10-618d-4449-8091-1d47c1461e59",
      "metadata": {
        "id": "0f4c6a10-618d-4449-8091-1d47c1461e59",
        "outputId": "9e563640-4726-48e5-c760-9a7f0ca438c0"
      },
      "outputs": [
        {
          "name": "stdout",
          "output_type": "stream",
          "text": [
            "[1 1 1 2 3 3 2 2 3 0 1 3 0 1 3 2 0 1 2 2 1 3 0 0 1 2 0 0 3 1 2 2 0 1 0 0 2\n",
            " 0 0 1 3 1 3 2 3 3 0 0 3 2 2 1 0 2 2 2 3 1 2 2 1 2 1 1 3 2 3 3 3 3 2 3 2 2\n",
            " 0 2 1 3 3 2 1 2 2 3 2 0 0 1 3 2 1 0 1 3 2 1 0 0 1 2 1 1 1 0 2 0 2 3 0 2 3\n",
            " 0 0 0 2 3 3 1 3 1 2 1 3 0 2 1 3 0 2 3 1 3 0 0 0 1 2 3 3 2 0 2 0 0 2 2 2 0\n",
            " 0 2 2 2 1 3 1 0 3 2 0 1 2 1 1 0 1 2 3 3 1 2 0 3 3 3 3 0 3 3 3 2 0 3 1 2 2\n",
            " 1 2 1 2 2 2 2 1 3 1 0 1 3 1 0 3 1 3 1 0 2 2 2 1 3 1 2 3 2 0 3 3 0 1 0 3 0\n",
            " 2 0 3 3 2 2 1 3 1 2 1 1 0 3 1 0 0 0 0 1 0 1 3 0 1 1 3 0 3 3 1 1 1 0 0 0 2\n",
            " 1 0 1 1 0 3 2 3 2 3 2 3 2 2 0 3 2 3 2 1 2 3 2 1 1 3 1 3 2 2 0 1 1 0 0 3 1\n",
            " 3 3 2 1 1 1 0 3 2 3 0 3 0 2 1 2 0 1 2 2 1 3 3 3 2 1 2 2 1 0 0 1 0 1 0 3 1\n",
            " 3 0 3 0 0 1 0 3 2 2 1 2 2 1 0 2 0 3 2 1 1 2 2 0 1 1 1 2 1 3 0 3 0 3 1 2 0\n",
            " 1 2 1 2 0 1 1 2 0 3 3 3 2 1 1 1 2 1 3 1 0 0 3 3 3 2 3 2 0 0 2 0 1 0 1 3 3\n",
            " 3 0 1 3 0 3 1 3 0 0 1 1 2 3 3 1 2 3 1 0 0 3 3 1 3 1 2 1 0 1 2 1 2 0 2 1 3\n",
            " 1 3 1 3 1 3 3 1 3 2 0 2 1 2 3 2 0 3 0 1 0 0 3 0 0 0 3 1 2 1 3 3 3 3 0 0 2\n",
            " 0 2 0 3 2 1 0 2 3 1 0 3 3 1 3 2 0 0 0]\n"
          ]
        }
      ],
      "source": [
        "y_pred_m3 = m3.predict(x_test)\n",
        "print(y_pred_m3)"
      ]
    },
    {
      "cell_type": "code",
      "execution_count": null,
      "id": "71166353-fba9-4af9-881d-2ab5b92c5e6d",
      "metadata": {
        "id": "71166353-fba9-4af9-881d-2ab5b92c5e6d",
        "outputId": "e7157780-938b-4188-bf6d-a3137972b41a"
      },
      "outputs": [
        {
          "name": "stdout",
          "output_type": "stream",
          "text": [
            "[[118   1   0   0]\n",
            " [  1 125   3   0]\n",
            " [  0   3 118   5]\n",
            " [  0   0   2 124]]\n",
            "              precision    recall  f1-score   support\n",
            "\n",
            "           0       0.99      0.99      0.99       119\n",
            "           1       0.97      0.97      0.97       129\n",
            "           2       0.96      0.94      0.95       126\n",
            "           3       0.96      0.98      0.97       126\n",
            "\n",
            "    accuracy                           0.97       500\n",
            "   macro avg       0.97      0.97      0.97       500\n",
            "weighted avg       0.97      0.97      0.97       500\n",
            "\n"
          ]
        }
      ],
      "source": [
        "cm_m3 = confusion_matrix(y_test,y_pred_m3)\n",
        "print(cm_m3)\n",
        "print(classification_report(y_test,y_pred_m3))"
      ]
    },
    {
      "cell_type": "markdown",
      "id": "6d097152-e0d6-4ad5-967b-f155746405bd",
      "metadata": {
        "id": "6d097152-e0d6-4ad5-967b-f155746405bd"
      },
      "source": [
        "### RBF KERNEL"
      ]
    },
    {
      "cell_type": "code",
      "execution_count": null,
      "id": "ee993431-3cf5-422a-978c-d7537c70941c",
      "metadata": {
        "id": "ee993431-3cf5-422a-978c-d7537c70941c",
        "outputId": "db18ccca-347d-4452-ca62-3108dd2b33ec"
      },
      "outputs": [
        {
          "data": {
            "text/plain": [
              "SVC()"
            ]
          },
          "execution_count": 34,
          "metadata": {},
          "output_type": "execute_result"
        }
      ],
      "source": [
        "mr = SVC(kernel='rbf')\n",
        "mr.fit(x_train,y_train)"
      ]
    },
    {
      "cell_type": "code",
      "execution_count": null,
      "id": "0e6b6872-a190-42c9-b48d-94ebedb53723",
      "metadata": {
        "id": "0e6b6872-a190-42c9-b48d-94ebedb53723",
        "outputId": "22c5fd46-fc6e-4e1c-c328-d59cb6e5eb71"
      },
      "outputs": [
        {
          "name": "stdout",
          "output_type": "stream",
          "text": [
            "Training score 0.9506666666666667\n",
            "Testing score 0.958\n"
          ]
        }
      ],
      "source": [
        "print('Training score',mr.score(x_train,y_train))\n",
        "print('Testing score',mr.score(x_test,y_test))"
      ]
    },
    {
      "cell_type": "code",
      "execution_count": null,
      "id": "bd57de10-0f95-4e74-8bcf-4cf9e357728b",
      "metadata": {
        "id": "bd57de10-0f95-4e74-8bcf-4cf9e357728b",
        "outputId": "49b13ff5-8f8d-4081-c1f9-2608f9b31868"
      },
      "outputs": [
        {
          "name": "stdout",
          "output_type": "stream",
          "text": [
            "[1 1 0 2 3 3 2 2 3 0 1 3 0 1 3 2 0 1 2 2 1 3 0 0 1 2 0 0 3 1 2 3 0 1 0 0 2\n",
            " 0 0 1 3 1 3 2 3 3 0 0 3 2 2 1 0 1 3 2 3 1 3 2 1 2 1 1 3 2 3 3 3 3 2 3 2 2\n",
            " 0 2 1 3 3 3 1 2 1 3 2 0 0 1 3 2 1 0 1 3 3 1 0 0 1 2 1 1 1 0 2 0 2 3 0 2 3\n",
            " 0 0 0 2 3 3 1 3 1 2 1 3 0 2 1 3 0 2 3 1 3 0 0 0 1 2 3 3 2 0 2 0 0 2 2 2 0\n",
            " 0 2 2 2 0 3 1 0 3 2 0 1 2 1 1 0 1 3 3 3 1 2 0 3 3 3 3 0 2 3 3 2 0 3 1 2 2\n",
            " 1 2 1 2 2 2 2 0 3 1 0 1 3 1 0 3 1 3 1 0 2 2 2 1 3 1 2 3 3 0 3 3 0 1 0 3 0\n",
            " 2 0 3 3 2 2 1 3 1 2 1 1 0 3 1 0 0 0 0 1 0 1 3 0 1 1 3 0 3 3 1 1 1 0 0 0 2\n",
            " 1 0 1 1 0 3 3 3 1 3 2 3 2 2 0 3 2 3 2 1 2 3 2 1 1 3 1 3 2 2 0 1 1 0 0 3 1\n",
            " 3 3 2 1 1 1 0 3 2 3 0 3 0 2 1 2 0 1 2 2 0 3 3 3 2 1 2 2 1 0 0 1 0 1 0 3 1\n",
            " 3 0 3 0 0 1 0 3 2 2 1 2 2 1 0 2 0 3 2 1 1 2 2 0 1 1 1 2 1 3 0 3 0 3 1 2 0\n",
            " 1 2 1 2 0 1 2 2 0 3 2 3 2 1 1 1 2 1 3 1 0 0 3 3 3 2 3 2 0 0 2 0 1 0 1 3 3\n",
            " 2 0 1 3 0 3 1 3 1 0 1 1 2 3 3 1 2 3 1 0 0 3 3 1 3 1 2 1 0 1 2 1 2 0 3 1 3\n",
            " 1 3 1 3 1 3 3 1 3 2 0 2 1 2 3 2 0 3 0 1 0 0 3 1 0 0 3 1 2 1 3 3 3 3 0 0 2\n",
            " 0 2 0 3 2 1 0 2 3 1 0 3 3 1 3 2 0 0 0]\n"
          ]
        }
      ],
      "source": [
        "y_pred_mr = mr.predict(x_test)\n",
        "print(y_pred_mr)"
      ]
    },
    {
      "cell_type": "code",
      "execution_count": null,
      "id": "188add21-88a7-4728-867d-36e14e32d993",
      "metadata": {
        "id": "188add21-88a7-4728-867d-36e14e32d993",
        "outputId": "13690f1e-1ba4-4c1f-ffe2-7a283ace47c4"
      },
      "outputs": [
        {
          "name": "stdout",
          "output_type": "stream",
          "text": [
            "[[118   1   0   0]\n",
            " [  3 125   1   0]\n",
            " [  0   3 112  11]\n",
            " [  0   0   2 124]]\n",
            "              precision    recall  f1-score   support\n",
            "\n",
            "           0       0.98      0.99      0.98       119\n",
            "           1       0.97      0.97      0.97       129\n",
            "           2       0.97      0.89      0.93       126\n",
            "           3       0.92      0.98      0.95       126\n",
            "\n",
            "    accuracy                           0.96       500\n",
            "   macro avg       0.96      0.96      0.96       500\n",
            "weighted avg       0.96      0.96      0.96       500\n",
            "\n"
          ]
        }
      ],
      "source": [
        "cm_mr = confusion_matrix(y_test,y_pred_mr)\n",
        "print(cm_mr)\n",
        "print(classification_report(y_test,y_pred_mr))"
      ]
    },
    {
      "cell_type": "markdown",
      "id": "fe0c5404-25e7-49c7-b4a0-3cd6db4b6501",
      "metadata": {
        "id": "fe0c5404-25e7-49c7-b4a0-3cd6db4b6501"
      },
      "source": [
        "# REPORT"
      ]
    },
    {
      "cell_type": "code",
      "execution_count": null,
      "id": "ccdd1aeb-e4ad-4683-8530-8bc014080547",
      "metadata": {
        "id": "ccdd1aeb-e4ad-4683-8530-8bc014080547",
        "outputId": "700ee4c1-19b4-412d-bf4d-5f1d593c6d4a"
      },
      "outputs": [
        {
          "name": "stdout",
          "output_type": "stream",
          "text": [
            "ACCURACY SCORE OF LOGISTIC REGRESSION MODEL IS 0.644\n",
            "ACCURACY SCORE OF KNN CLASSIFICATION MODEL IS 0.926\n",
            "ACCURACY SCORE OF NAIVE BAYES MODEL IS 0.504\n",
            "ACCURACY SCORE OF SVM WITH LINEAR KERNEL IS 0.97\n",
            "ACCURACY SCORE OF SVM WITH rbf KERNEL IS 0.958\n"
          ]
        }
      ],
      "source": [
        "print('ACCURACY SCORE OF LOGISTIC REGRESSION MODEL IS',accuracy_score(y_test,y_pred_m1))\n",
        "print('ACCURACY SCORE OF KNN CLASSIFICATION MODEL IS',accuracy_score(y_test,y_pred_m2))\n",
        "print('ACCURACY SCORE OF NAIVE BAYES MODEL IS',accuracy_score(y_test,y_pred_mnb))\n",
        "print('ACCURACY SCORE OF SVM WITH LINEAR KERNEL IS',accuracy_score(y_test,y_pred_m3))\n",
        "print('ACCURACY SCORE OF SVM WITH rbf KERNEL IS',accuracy_score(y_test,y_pred_mr))"
      ]
    },
    {
      "cell_type": "markdown",
      "id": "2c95c5a6-5a80-41dd-b77a-5f0875cfc8ed",
      "metadata": {
        "id": "2c95c5a6-5a80-41dd-b77a-5f0875cfc8ed"
      },
      "source": [
        " <b>HENCE FROM THE ANALYSIS, SVM WITH LINEAR KERNEL IS THE MOST ACCURATE MODEL FOR THE GIVEN DATASET</b>"
      ]
    },
    {
      "cell_type": "code",
      "execution_count": null,
      "id": "bcf4a947-bd85-4cea-a22b-489d44429c68",
      "metadata": {
        "id": "bcf4a947-bd85-4cea-a22b-489d44429c68"
      },
      "outputs": [],
      "source": []
    }
  ],
  "metadata": {
    "kernelspec": {
      "display_name": "Python 3 (ipykernel)",
      "language": "python",
      "name": "python3"
    },
    "language_info": {
      "codemirror_mode": {
        "name": "ipython",
        "version": 3
      },
      "file_extension": ".py",
      "mimetype": "text/x-python",
      "name": "python",
      "nbconvert_exporter": "python",
      "pygments_lexer": "ipython3",
      "version": "3.10.3"
    },
    "colab": {
      "provenance": []
    }
  },
  "nbformat": 4,
  "nbformat_minor": 5
}